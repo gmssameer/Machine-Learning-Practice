{
 "cells": [
  {
   "cell_type": "markdown",
   "id": "0fbf758a-9403-40fb-b42f-b357ab4ff541",
   "metadata": {
    "panel-layout": {
     "height": 163.9666748046875,
     "visible": true,
     "width": 100
    }
   },
   "source": [
    "### Machine learning workflow\n",
    "\n",
    "\n",
    "1. data (prepare and load)\n",
    "2. build model,\n",
    "3. fitting the model to data (training),\n",
    "4. making predictions and evaluating a model (inference),\n",
    "5. saving and loading a model,\n",
    "6. Putting it all together\n",
    "\n",
    "\n"
   ]
  },
  {
   "cell_type": "code",
   "execution_count": 3,
   "id": "82e30f6a-d5f3-480f-bef2-3c314edb7538",
   "metadata": {},
   "outputs": [
    {
     "data": {
      "text/plain": [
       "'2.5.1'"
      ]
     },
     "execution_count": 3,
     "metadata": {},
     "output_type": "execute_result"
    }
   ],
   "source": [
    "import torch\n",
    "from torch import nn # nn contains all of PyTorch's building blocks for neural networks\n",
    "import matplotlib.pyplot as plt\n",
    "# Check PyTorch version\n",
    "torch.__version__\n"
   ]
  },
  {
   "cell_type": "markdown",
   "id": "f653c9f8-078e-4c32-a4dd-2db48181c0df",
   "metadata": {},
   "source": [
    "Turn your data, whatever it is, into numbers (a representation).\n",
    "Pick or build a model to learn the representation as best as possible.\n",
    "\n",
    "For examle lets pick a know param and check if the model can get the results"
   ]
  },
  {
   "cell_type": "code",
   "execution_count": 10,
   "id": "55919660-4da8-475c-b262-4d0c957edd21",
   "metadata": {},
   "outputs": [
    {
     "data": {
      "text/plain": [
       "(tensor([[0.0000],\n",
       "         [0.0200],\n",
       "         [0.0400],\n",
       "         [0.0600],\n",
       "         [0.0800],\n",
       "         [0.1000],\n",
       "         [0.1200],\n",
       "         [0.1400],\n",
       "         [0.1600],\n",
       "         [0.1800]]),\n",
       " tensor([[0.3000],\n",
       "         [0.3140],\n",
       "         [0.3280],\n",
       "         [0.3420],\n",
       "         [0.3560],\n",
       "         [0.3700],\n",
       "         [0.3840],\n",
       "         [0.3980],\n",
       "         [0.4120],\n",
       "         [0.4260]]),\n",
       " 50,\n",
       " 50)"
      ]
     },
     "execution_count": 10,
     "metadata": {},
     "output_type": "execute_result"
    }
   ],
   "source": [
    "# Create *known* parameters\n",
    "weight = 0.7\n",
    "bias = 0.3\n",
    "\n",
    "\n",
    "# Create data\n",
    "start = 0\n",
    "end = 1\n",
    "step = 0.02\n",
    "X = torch.arange(start, end, step).unsqueeze(dim=1)\n",
    "y = weight * X + bias\n",
    "\n",
    "X[:10], y[:10] , len(X),len(y)"
   ]
  },
  {
   "cell_type": "markdown",
   "id": "cfdedbfc-533c-4815-abe6-dd4473b73666",
   "metadata": {},
   "source": [
    "X (features) and y (labels)"
   ]
  },
  {
   "cell_type": "markdown",
   "id": "eb5cd3e8-7835-43d2-bbee-2ffdb649b0c3",
   "metadata": {},
   "source": [
    "### Split data into training and test sets\n",
    "\n",
    "80% of data used for training set, \n",
    "20% Validation set\n",
    "20% for testing "
   ]
  },
  {
   "cell_type": "code",
   "execution_count": 14,
   "id": "a8b34e18-bf2e-489d-ac37-35a139c99dd8",
   "metadata": {},
   "outputs": [
    {
     "data": {
      "text/plain": [
       "(40, 40, 10, 10)"
      ]
     },
     "execution_count": 14,
     "metadata": {},
     "output_type": "execute_result"
    }
   ],
   "source": [
    "# Create train/test split\n",
    "train_split = int(0.8 * len(X)) # 80% of data used for training set, 20% for testing \n",
    "X_train, y_train = X[:train_split], y[:train_split] # upto train_split\n",
    "X_test, y_test = X[train_split:], y[train_split:] #from train_split\n",
    "\n",
    "len(X_train), len(y_train), len(X_test), len(y_test)\n"
   ]
  },
  {
   "cell_type": "markdown",
   "id": "c9464b03-6c70-4fb3-b3c0-65697c2ff17e",
   "metadata": {},
   "source": [
    "### Visualize the data"
   ]
  },
  {
   "cell_type": "code",
   "execution_count": 29,
   "id": "0fd9f399-f04f-4913-8e21-341cb5576414",
   "metadata": {},
   "outputs": [],
   "source": [
    "def plot_predictions(train_data=X_train, \n",
    "                     train_labels=y_train, \n",
    "                     test_data=X_test, \n",
    "                     test_labels=y_test, \n",
    "                     predictions=None):\n",
    "    plt.figure(figsize=(10, 7))\n",
    "    # Plot training data in blue\n",
    "    plt.scatter(train_data, train_labels, c=\"b\", s=8, label=\"Training data\")\n",
    "    #plot test data \n",
    "    plt.scatter(test_data, test_labels, c=\"g\", s=4, label=\"Testing data\")\n",
    "    plt.legend(prop={\"size\": 14});"
   ]
  },
  {
   "cell_type": "code",
   "execution_count": 31,
   "id": "b266a62a-fa3e-49e6-907a-3b3dc99286fd",
   "metadata": {},
   "outputs": [
    {
     "data": {
      "image/png": "[encoded data removed]",
      "text/plain": [
       "<Figure size 1000x700 with 1 Axes>"
      ]
     },
     "metadata": {},
     "output_type": "display_data"
    }
   ],
   "source": [
    "plot_predictions();"
   ]
  },
  {
   "cell_type": "markdown",
   "id": "dcb8376b-35f5-47a5-9026-4807bac02434",
   "metadata": {},
   "source": [
    "### Build model\n",
    "Linear Regression model"
   ]
  },
  {
   "cell_type": "code",
   "execution_count": null,
   "id": "4089e48a-7d5c-457a-8901-49c3a826de86",
   "metadata": {},
   "outputs": [],
   "source": [
    "class LinearRegressionModel(nn.Module):\n",
    "    "
   ]
  }
 ],
 "metadata": {
  "kernelspec": {
   "display_name": "Python [conda env:base] *",
   "language": "python",
   "name": "conda-base-py"
  },
  "language_info": {
   "codemirror_mode": {
    "name": "ipython",
    "version": 3
   },
   "file_extension": ".py",
   "mimetype": "text/x-python",
   "name": "python",
   "nbconvert_exporter": "python",
   "pygments_lexer": "ipython3",
   "version": "3.12.7"
  },
  "panel-cell-order": [
   "0fbf758a-9403-40fb-b42f-b357ab4ff541"
  ]
 },
 "nbformat": 4,
 "nbformat_minor": 5
}
