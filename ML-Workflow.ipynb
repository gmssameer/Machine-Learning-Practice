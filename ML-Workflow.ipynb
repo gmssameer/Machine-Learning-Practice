{
 "cells": [
  {
   "cell_type": "markdown",
   "id": "0fbf758a-9403-40fb-b42f-b357ab4ff541",
   "metadata": {
    "panel-layout": {
     "height": 163.9666748046875,
     "visible": true,
     "width": 100
    }
   },
   "source": [
    "### Machine learning workflow\n",
    "\n",
    "\n",
    "1. data (prepare and load)\n",
    "2. build model,\n",
    "3. fitting the model to data (training),\n",
    "4. making predictions and evaluating a model (inference),\n",
    "5. saving and loading a model,\n",
    "6. Putting it all together\n",
    "\n",
    "\n"
   ]
  },
  {
   "cell_type": "code",
   "execution_count": 26,
   "id": "82e30f6a-d5f3-480f-bef2-3c314edb7538",
   "metadata": {},
   "outputs": [
    {
     "data": {
      "text/plain": [
       "'2.5.1'"
      ]
     },
     "execution_count": 26,
     "metadata": {},
     "output_type": "execute_result"
    }
   ],
   "source": [
    "import torch\n",
    "from torch import nn # nn contains all of PyTorch's building blocks for neural networks\n",
    "import matplotlib.pyplot as plt\n",
    "# Check PyTorch version\n",
    "torch.__version__\n"
   ]
  },
  {
   "cell_type": "markdown",
   "id": "f653c9f8-078e-4c32-a4dd-2db48181c0df",
   "metadata": {},
   "source": [
    "Turn your data, whatever it is, into numbers (a representation).\n",
    "Pick or build a model to learn the representation as best as possible.\n",
    "\n",
    "For examle lets pick a know param and check if the model can get the results"
   ]
  },
  {
   "cell_type": "code",
   "execution_count": 28,
   "id": "55919660-4da8-475c-b262-4d0c957edd21",
   "metadata": {},
   "outputs": [
    {
     "data": {
      "text/plain": [
       "(tensor([[0.0000],\n",
       "         [0.0200],\n",
       "         [0.0400],\n",
       "         [0.0600],\n",
       "         [0.0800],\n",
       "         [0.1000],\n",
       "         [0.1200],\n",
       "         [0.1400],\n",
       "         [0.1600],\n",
       "         [0.1800]]),\n",
       " tensor([[0.3000],\n",
       "         [0.3140],\n",
       "         [0.3280],\n",
       "         [0.3420],\n",
       "         [0.3560],\n",
       "         [0.3700],\n",
       "         [0.3840],\n",
       "         [0.3980],\n",
       "         [0.4120],\n",
       "         [0.4260]]),\n",
       " 50,\n",
       " 50)"
      ]
     },
     "execution_count": 28,
     "metadata": {},
     "output_type": "execute_result"
    }
   ],
   "source": [
    "# Create *known* parameters\n",
    "weight = 0.7\n",
    "bias = 0.3\n",
    "\n",
    "\n",
    "# Create data\n",
    "start = 0\n",
    "end = 1\n",
    "step = 0.02\n",
    "X = torch.arange(start, end, step).unsqueeze(dim=1)\n",
    "y = weight * X + bias\n",
    "\n",
    "X[:10], y[:10] , len(X),len(y)"
   ]
  },
  {
   "cell_type": "markdown",
   "id": "cfdedbfc-533c-4815-abe6-dd4473b73666",
   "metadata": {},
   "source": [
    "X (features) and y (labels)"
   ]
  },
  {
   "cell_type": "markdown",
   "id": "eb5cd3e8-7835-43d2-bbee-2ffdb649b0c3",
   "metadata": {},
   "source": [
    "### Split data into training and test sets\n",
    "\n",
    "80% of data used for training set, \n",
    "20% Validation set\n",
    "20% for testing "
   ]
  },
  {
   "cell_type": "code",
   "execution_count": 31,
   "id": "a8b34e18-bf2e-489d-ac37-35a139c99dd8",
   "metadata": {},
   "outputs": [
    {
     "data": {
      "text/plain": [
       "(40, 40, 10, 10)"
      ]
     },
     "execution_count": 31,
     "metadata": {},
     "output_type": "execute_result"
    }
   ],
   "source": [
    "# Create train/test split\n",
    "train_split = int(0.8 * len(X)) # 80% of data used for training set, 20% for testing \n",
    "X_train, y_train = X[:train_split], y[:train_split] # upto train_split\n",
    "X_test, y_test = X[train_split:], y[train_split:] #from train_split\n",
    "\n",
    "len(X_train), len(y_train), len(X_test), len(y_test)\n"
   ]
  },
  {
   "cell_type": "markdown",
   "id": "c9464b03-6c70-4fb3-b3c0-65697c2ff17e",
   "metadata": {},
   "source": [
    "### Visualize the data"
   ]
  },
  {
   "cell_type": "code",
   "execution_count": 33,
   "id": "0fd9f399-f04f-4913-8e21-341cb5576414",
   "metadata": {},
   "outputs": [],
   "source": [
    "def plot_predictions(train_data=X_train, \n",
    "                     train_labels=y_train, \n",
    "                     test_data=X_test, \n",
    "                     test_labels=y_test, \n",
    "                     predictions=None):\n",
    "    plt.figure(figsize=(10, 7))\n",
    "    # Plot training data in blue\n",
    "    plt.scatter(train_data, train_labels, c=\"b\", s=8, label=\"Training data\")\n",
    "    #plot test data \n",
    "    plt.scatter(test_data, test_labels, c=\"g\", s=4, label=\"Testing data\")\n",
    "\n",
    "    if predictions is not None:\n",
    "        # Plot the predictions in red (predictions were made on the test data)\n",
    "        plt.scatter(test_data, predictions, c=\"r\", s=4, label=\"Predictions\")\n",
    "    \n",
    "    plt.legend(prop={\"size\": 14});"
   ]
  },
  {
   "cell_type": "code",
   "execution_count": 34,
   "id": "b266a62a-fa3e-49e6-907a-3b3dc99286fd",
   "metadata": {},
   "outputs": [
    {
     "data": {
      "image/png": "[encoded data removed]",
      "text/plain": [
       "<Figure size 1000x700 with 1 Axes>"
      ]
     },
     "metadata": {},
     "output_type": "display_data"
    }
   ],
   "source": [
    "plot_predictions();"
   ]
  },
  {
   "cell_type": "markdown",
   "id": "dcb8376b-35f5-47a5-9026-4807bac02434",
   "metadata": {},
   "source": [
    "### Build model\n",
    "Linear Regression model"
   ]
  },
  {
   "cell_type": "code",
   "execution_count": 36,
   "id": "4089e48a-7d5c-457a-8901-49c3a826de86",
   "metadata": {
    "editable": true,
    "slideshow": {
     "slide_type": "slide"
    },
    "tags": []
   },
   "outputs": [],
   "source": [
    "class LinearRegressionModel(nn.Module):\n",
    "    def __init__(self):\n",
    "        super().__init__()\n",
    "        #starting with random weight \"1\"\n",
    "        self.weights = nn.Parameter(torch.randn(1),requires_grad=True)\n",
    "        self.bias = nn.Parameter(torch.randn(1),requires_grad=True)\n",
    "        \n",
    "    # Forward defines the computation in the model (required for all subclass for nn.Module)\n",
    "    def forward(self, x: torch.Tensor) -> torch.Tensor: # \"x\" is the input data return tensor\n",
    "        return self.weights * x + self.bias #linear regression formula (y = m*x + b)\n"
   ]
  },
  {
   "cell_type": "markdown",
   "id": "89d3ec60-f931-4165-b143-e0f8eb9c56a9",
   "metadata": {},
   "source": [
    "### PyTorch model building essentials\n",
    "\n",
    "1. nn.Module contains the larger building blocks (layers)\n",
    "2. nn.Parameter contains the smaller parameters like weights and biases (put these together to make nn.Module(s))\n",
    "3. def forward() tells the larger blocks how to make calculations on inputs (tensors full of data) within nn.Module(s) all models is required.\n",
    "4. torch.optim contains optimization methods on how to improve the parameters within nn.Parameter to better represent input data\n"
   ]
  },
  {
   "cell_type": "markdown",
   "id": "46efe5b6-90fe-46aa-b6b8-2b133cbf3f5d",
   "metadata": {},
   "source": [
    "### Contents of a PyTorch model"
   ]
  },
  {
   "cell_type": "code",
   "execution_count": 39,
   "id": "a7d41c12-d01d-4a3e-98cd-f1a5f78cdd91",
   "metadata": {},
   "outputs": [
    {
     "name": "stdout",
     "output_type": "stream",
     "text": [
      "{'training': True, '_parameters': {'weights': Parameter containing:\n",
      "tensor([0.3367], requires_grad=True), 'bias': Parameter containing:\n",
      "tensor([0.1288], requires_grad=True)}, '_buffers': {}, '_non_persistent_buffers_set': set(), '_backward_pre_hooks': OrderedDict(), '_backward_hooks': OrderedDict(), '_is_full_backward_hook': None, '_forward_hooks': OrderedDict(), '_forward_hooks_with_kwargs': OrderedDict(), '_forward_hooks_always_called': OrderedDict(), '_forward_pre_hooks': OrderedDict(), '_forward_pre_hooks_with_kwargs': OrderedDict(), '_state_dict_hooks': OrderedDict(), '_state_dict_pre_hooks': OrderedDict(), '_load_state_dict_pre_hooks': OrderedDict(), '_load_state_dict_post_hooks': OrderedDict(), '_modules': {}}\n"
     ]
    },
    {
     "data": {
      "text/plain": [
       "[Parameter containing:\n",
       " tensor([0.3367], requires_grad=True),\n",
       " Parameter containing:\n",
       " tensor([0.1288], requires_grad=True)]"
      ]
     },
     "execution_count": 39,
     "metadata": {},
     "output_type": "execute_result"
    }
   ],
   "source": [
    "# Create Random seed\n",
    "torch.manual_seed(42)\n",
    "\n",
    "model_O = LinearRegressionModel()\n",
    "\n",
    "# to only access attributes\n",
    "# print(model_O.__dict__.keys())\n",
    "\n",
    "\n",
    "\n",
    "import inspect\n",
    "\n",
    "#List all calss methods and members using the vars function\n",
    "print(vars(model_O))\n",
    "\n",
    "list(model_O.parameters())\n",
    "\n"
   ]
  },
  {
   "cell_type": "code",
   "execution_count": 40,
   "id": "dbda0c4b-cf14-4718-a717-38c2b0d8fa81",
   "metadata": {},
   "outputs": [
    {
     "name": "stdout",
     "output_type": "stream",
     "text": [
      "OrderedDict({'weights': tensor([0.3367]), 'bias': tensor([0.1288])})\n"
     ]
    }
   ],
   "source": [
    "print(model_O.state_dict())"
   ]
  },
  {
   "cell_type": "markdown",
   "id": "b3fccfef-f9da-4929-be5b-7501aba47b71",
   "metadata": {},
   "source": [
    "### Making predictions"
   ]
  },
  {
   "cell_type": "code",
   "execution_count": 42,
   "id": "62fb00c6-79df-4277-b6a9-475469c505f8",
   "metadata": {},
   "outputs": [
    {
     "data": {
      "text/plain": [
       "(tensor([[0.8000],\n",
       "         [0.8200],\n",
       "         [0.8400],\n",
       "         [0.8600],\n",
       "         [0.8800],\n",
       "         [0.9000],\n",
       "         [0.9200],\n",
       "         [0.9400],\n",
       "         [0.9600],\n",
       "         [0.9800]]),\n",
       " tensor([[0.8600],\n",
       "         [0.8740],\n",
       "         [0.8880],\n",
       "         [0.9020],\n",
       "         [0.9160],\n",
       "         [0.9300],\n",
       "         [0.9440],\n",
       "         [0.9580],\n",
       "         [0.9720],\n",
       "         [0.9860]]))"
      ]
     },
     "execution_count": 42,
     "metadata": {},
     "output_type": "execute_result"
    }
   ],
   "source": [
    "X_test , y_test"
   ]
  },
  {
   "cell_type": "code",
   "execution_count": 61,
   "id": "622b1abf-4df0-439c-9ae7-1a1795596f28",
   "metadata": {},
   "outputs": [
    {
     "data": {
      "text/plain": [
       "[Parameter containing:\n",
       " tensor([0.3367], requires_grad=True),\n",
       " Parameter containing:\n",
       " tensor([0.1288], requires_grad=True)]"
      ]
     },
     "execution_count": 61,
     "metadata": {},
     "output_type": "execute_result"
    }
   ],
   "source": [
    "# Make predictions with model \n",
    "#inference mode turns off the tracking of gradient\n",
    "# so u don't train it on testing data \n",
    "with torch.inference_mode(): \n",
    "    y_preds = model_O(X_test)\n",
    "\n",
    "y_preds\n",
    "\n",
    "list(model_O.parameters())"
   ]
  },
  {
   "cell_type": "code",
   "execution_count": 44,
   "id": "2dc50c52-ceed-4f3e-80ae-31547151273a",
   "metadata": {},
   "outputs": [
    {
     "data": {
      "image/png": "[encoded data removed]",
      "text/plain": [
       "<Figure size 1000x700 with 1 Axes>"
      ]
     },
     "metadata": {},
     "output_type": "display_data"
    }
   ],
   "source": [
    "plot_predictions(predictions=y_preds)"
   ]
  },
  {
   "cell_type": "markdown",
   "id": "63a47848-575b-4de3-bf10-5fbc46214bb2",
   "metadata": {},
   "source": [
    "### Training Model \n",
    "with the loss function (lower is better)\n",
    "Optimizer tells model how to update its internal parameters to best lower the loss."
   ]
  },
  {
   "cell_type": "code",
   "execution_count": 63,
   "id": "ba7dbe47-509f-4605-a389-d2fdf25933ef",
   "metadata": {},
   "outputs": [],
   "source": [
    "# Setup loss function\n",
    "loss_fn = nn.L1Loss()\n",
    "\n",
    "# Setup Optimizer\n",
    "opt = torch.optim.SGD(model_O.parameters(),lr=0.01) #lr = learning Rate (Hyper parameter)"
   ]
  },
  {
   "cell_type": "markdown",
   "id": "5175d9fa-3036-498e-b8a5-7e04b983124a",
   "metadata": {},
   "source": [
    "## Building the training Loop for the model\n",
    "1. forward pass\n",
    "2. calculate the loss\n",
    "3. zero the gradient (PyTorch, by default, accumulates gradients. so we make it zero bcoz we need the gradient for that data pt to be accurate)\n",
    "4. Perform backpropogation on the loss\n",
    "5. update the optimizer (gradient descent)"
   ]
  },
  {
   "cell_type": "code",
   "execution_count": 86,
   "id": "874a7028-9a15-407d-95e9-8f3041e3f823",
   "metadata": {},
   "outputs": [
    {
     "name": "stdout",
     "output_type": "stream",
     "text": [
      "OrderedDict({'weights': tensor([0.6951]), 'bias': tensor([0.2993])})\n"
     ]
    }
   ],
   "source": [
    "epochs = 10000 # epoch is the number of iteration of the training loop\n",
    "\n",
    "for epoch in range(epochs):\n",
    "    #put model in training mode; Set the module in training mode.\n",
    "    model_O.train()\n",
    "    # 1. Forward pass on train data\n",
    "    y_pred = model_O(X_train)\n",
    "    # 2. calculate the loss \n",
    "    loss = loss_fn(y_pred, y_train)\n",
    "    # 3. Zero grad of the optimizer yeah\n",
    "    opt.zero_grad()\n",
    "    # 4. Loss backwards\n",
    "    loss.backward()\n",
    "    # 5. Progress the optimizer\n",
    "    opt.step()\n",
    "    # Put the model in evaluation mode for testing phase\n",
    "    model_O.eval()\n",
    "\n",
    "print(model_O.state_dict())"
   ]
  },
  {
   "cell_type": "code",
   "execution_count": 76,
   "id": "ff01a125-4cbb-4f93-9ba6-c5e736d6f4b8",
   "metadata": {},
   "outputs": [
    {
     "data": {
      "text/plain": [
       "(0.7, 0.3)"
      ]
     },
     "execution_count": 76,
     "metadata": {},
     "output_type": "execute_result"
    }
   ],
   "source": [
    "weight,bias"
   ]
  },
  {
   "cell_type": "code",
   "execution_count": 88,
   "id": "0f6b036a-3803-451e-bbcd-0c112ccbce77",
   "metadata": {},
   "outputs": [],
   "source": [
    "with torch.inference_mode(): \n",
    "    y_preds_new = model_O(X_test)"
   ]
  },
  {
   "cell_type": "code",
   "execution_count": 92,
   "id": "7ee9cb6b-2cef-433b-9efc-f6257ff35ba3",
   "metadata": {},
   "outputs": [
    {
     "data": {
      "image/png": "[encoded data removed]",
      "text/plain": [
       "<Figure size 1000x700 with 1 Axes>"
      ]
     },
     "metadata": {},
     "output_type": "display_data"
    }
   ],
   "source": [
    "plot_predictions(predictions=y_preds_new)"
   ]
  },
  {
   "cell_type": "code",
   "execution_count": null,
   "id": "ba085e24-9cfd-43c0-861e-68bd10c580ea",
   "metadata": {},
   "outputs": [],
   "source": []
  }
 ],
 "metadata": {
  "kernelspec": {
   "display_name": "Python [conda env:base] *",
   "language": "python",
   "name": "conda-base-py"
  },
  "language_info": {
   "codemirror_mode": {
    "name": "ipython",
    "version": 3
   },
   "file_extension": ".py",
   "mimetype": "text/x-python",
   "name": "python",
   "nbconvert_exporter": "python",
   "pygments_lexer": "ipython3",
   "version": "3.12.7"
  },
  "panel-cell-order": [
   "0fbf758a-9403-40fb-b42f-b357ab4ff541"
  ]
 },
 "nbformat": 4,
 "nbformat_minor": 5
}
