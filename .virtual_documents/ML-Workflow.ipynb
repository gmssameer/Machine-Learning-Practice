


import torch
from torch import nn # nn contains all of PyTorch's building blocks for neural networks
import matplotlib.pyplot as plt
# Check PyTorch version
torch.__version__






# Create *known* parameters
weight = 0.7
bias = 0.3


# Create data
start = 0
end = 1
step = 0.02
X = torch.arange(start, end, step).unsqueeze(dim=1)
y = weight * X + bias

X[:10], y[:10] , len(X),len(y)








# Create train/test split
train_split = int(0.8 * len(X)) # 80% of data used for training set, 20% for testing 
X_train, y_train = X[:train_split], y[:train_split] # upto train_split
X_test, y_test = X[train_split:], y[train_split:] #from train_split

len(X_train), len(y_train), len(X_test), len(y_test)






def plot_predictions(train_data=X_train, 
                     train_labels=y_train, 
                     test_data=X_test, 
                     test_labels=y_test, 
                     predictions=None):
    plt.figure(figsize=(10, 7))
    # Plot training data in blue
    plt.scatter(train_data, train_labels, c="b", s=8, label="Training data")
    #plot test data 
    plt.scatter(test_data, test_labels, c="g", s=4, label="Testing data")
    plt.legend(prop={"size": 14});


plot_predictions();





class LinearRegressionModel(nn.Module):
    def __init__(self):
        super().__init__()
        #starting with random weight "1"
        self.weights = nn.Parameter(torch.randn(1),requires_grad=True)
        self.bias = nn.Parameter(torch.randn(1),requires_grad=True)
        
    # Forward defines the computation in the model (required for all subclass for nn.Module)
    def forward(self, x: torch.Tensor) -> torch.Tensor: # "x" is the input data return tensor
        return self.weights * x + self.bias #linear regression formula (y = m*x + b)









# Create Random seed
torch.manual_seed(42)

model_O = LinearRegressionModel()

# to only access attributes
# print(model_O.__dict__.keys())



import inspect

#List all calss methods and members using the vars function
print(vars(model_O))

print(model_O._parameters)




print(model_O.state_dict())





X_test , y_test


# Make predictions with model
with torch.inference_mode(): 
    y_preds = model_O(X_test)

y_preds



